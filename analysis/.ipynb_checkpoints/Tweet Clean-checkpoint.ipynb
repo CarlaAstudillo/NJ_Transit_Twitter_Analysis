{
 "cells": [
  {
   "cell_type": "code",
   "execution_count": 2,
   "metadata": {
    "collapsed": false
   },
   "outputs": [],
   "source": [
    "import pandas as pd"
   ]
  },
  {
   "cell_type": "code",
   "execution_count": 3,
   "metadata": {
    "collapsed": false
   },
   "outputs": [
    {
     "ename": "IOError",
     "evalue": "File @NJTRANSIT_RVL_march_april_may.csv does not exist",
     "output_type": "error",
     "traceback": [
      "\u001b[0;31m---------------------------------------------------------------------------\u001b[0m",
      "\u001b[0;31mIOError\u001b[0m                                   Traceback (most recent call last)",
      "\u001b[0;32m<ipython-input-3-bc48eb9f60d2>\u001b[0m in \u001b[0;36m<module>\u001b[0;34m()\u001b[0m\n\u001b[0;32m----> 1\u001b[0;31m \u001b[0mnj_transit_tweets\u001b[0m \u001b[0;34m=\u001b[0m \u001b[0mpd\u001b[0m\u001b[0;34m.\u001b[0m\u001b[0mread_csv\u001b[0m\u001b[0;34m(\u001b[0m\u001b[0;34m'@NJTRANSIT_RVL_march_april_may.csv'\u001b[0m\u001b[0;34m)\u001b[0m\u001b[0;34m\u001b[0m\u001b[0m\n\u001b[0m\u001b[1;32m      2\u001b[0m \u001b[0mstring\u001b[0m \u001b[0;34m=\u001b[0m \u001b[0;34m\"RVL_nj_transit_tweets.csv\"\u001b[0m\u001b[0;34m\u001b[0m\u001b[0m\n\u001b[1;32m      3\u001b[0m \u001b[0mtrain_line\u001b[0m \u001b[0;34m=\u001b[0m \u001b[0;34m\"RVL\"\u001b[0m\u001b[0;34m\u001b[0m\u001b[0m\n",
      "\u001b[0;32m/Users/castudi1/miniconda2/envs/lovepandas/lib/python2.7/site-packages/pandas/io/parsers.pyc\u001b[0m in \u001b[0;36mparser_f\u001b[0;34m(filepath_or_buffer, sep, delimiter, header, names, index_col, usecols, squeeze, prefix, mangle_dupe_cols, dtype, engine, converters, true_values, false_values, skipinitialspace, skiprows, skipfooter, nrows, na_values, keep_default_na, na_filter, verbose, skip_blank_lines, parse_dates, infer_datetime_format, keep_date_col, date_parser, dayfirst, iterator, chunksize, compression, thousands, decimal, lineterminator, quotechar, quoting, escapechar, comment, encoding, dialect, tupleize_cols, error_bad_lines, warn_bad_lines, skip_footer, doublequote, delim_whitespace, as_recarray, compact_ints, use_unsigned, low_memory, buffer_lines, memory_map, float_precision)\u001b[0m\n\u001b[1;32m    560\u001b[0m                     skip_blank_lines=skip_blank_lines)\n\u001b[1;32m    561\u001b[0m \u001b[0;34m\u001b[0m\u001b[0m\n\u001b[0;32m--> 562\u001b[0;31m         \u001b[0;32mreturn\u001b[0m \u001b[0m_read\u001b[0m\u001b[0;34m(\u001b[0m\u001b[0mfilepath_or_buffer\u001b[0m\u001b[0;34m,\u001b[0m \u001b[0mkwds\u001b[0m\u001b[0;34m)\u001b[0m\u001b[0;34m\u001b[0m\u001b[0m\n\u001b[0m\u001b[1;32m    563\u001b[0m \u001b[0;34m\u001b[0m\u001b[0m\n\u001b[1;32m    564\u001b[0m     \u001b[0mparser_f\u001b[0m\u001b[0;34m.\u001b[0m\u001b[0m__name__\u001b[0m \u001b[0;34m=\u001b[0m \u001b[0mname\u001b[0m\u001b[0;34m\u001b[0m\u001b[0m\n",
      "\u001b[0;32m/Users/castudi1/miniconda2/envs/lovepandas/lib/python2.7/site-packages/pandas/io/parsers.pyc\u001b[0m in \u001b[0;36m_read\u001b[0;34m(filepath_or_buffer, kwds)\u001b[0m\n\u001b[1;32m    313\u001b[0m \u001b[0;34m\u001b[0m\u001b[0m\n\u001b[1;32m    314\u001b[0m     \u001b[0;31m# Create the parser.\u001b[0m\u001b[0;34m\u001b[0m\u001b[0;34m\u001b[0m\u001b[0m\n\u001b[0;32m--> 315\u001b[0;31m     \u001b[0mparser\u001b[0m \u001b[0;34m=\u001b[0m \u001b[0mTextFileReader\u001b[0m\u001b[0;34m(\u001b[0m\u001b[0mfilepath_or_buffer\u001b[0m\u001b[0;34m,\u001b[0m \u001b[0;34m**\u001b[0m\u001b[0mkwds\u001b[0m\u001b[0;34m)\u001b[0m\u001b[0;34m\u001b[0m\u001b[0m\n\u001b[0m\u001b[1;32m    316\u001b[0m \u001b[0;34m\u001b[0m\u001b[0m\n\u001b[1;32m    317\u001b[0m     \u001b[0;32mif\u001b[0m \u001b[0;34m(\u001b[0m\u001b[0mnrows\u001b[0m \u001b[0;32mis\u001b[0m \u001b[0;32mnot\u001b[0m \u001b[0mNone\u001b[0m\u001b[0;34m)\u001b[0m \u001b[0;32mand\u001b[0m \u001b[0;34m(\u001b[0m\u001b[0mchunksize\u001b[0m \u001b[0;32mis\u001b[0m \u001b[0;32mnot\u001b[0m \u001b[0mNone\u001b[0m\u001b[0;34m)\u001b[0m\u001b[0;34m:\u001b[0m\u001b[0;34m\u001b[0m\u001b[0m\n",
      "\u001b[0;32m/Users/castudi1/miniconda2/envs/lovepandas/lib/python2.7/site-packages/pandas/io/parsers.pyc\u001b[0m in \u001b[0;36m__init__\u001b[0;34m(self, f, engine, **kwds)\u001b[0m\n\u001b[1;32m    643\u001b[0m             \u001b[0mself\u001b[0m\u001b[0;34m.\u001b[0m\u001b[0moptions\u001b[0m\u001b[0;34m[\u001b[0m\u001b[0;34m'has_index_names'\u001b[0m\u001b[0;34m]\u001b[0m \u001b[0;34m=\u001b[0m \u001b[0mkwds\u001b[0m\u001b[0;34m[\u001b[0m\u001b[0;34m'has_index_names'\u001b[0m\u001b[0;34m]\u001b[0m\u001b[0;34m\u001b[0m\u001b[0m\n\u001b[1;32m    644\u001b[0m \u001b[0;34m\u001b[0m\u001b[0m\n\u001b[0;32m--> 645\u001b[0;31m         \u001b[0mself\u001b[0m\u001b[0;34m.\u001b[0m\u001b[0m_make_engine\u001b[0m\u001b[0;34m(\u001b[0m\u001b[0mself\u001b[0m\u001b[0;34m.\u001b[0m\u001b[0mengine\u001b[0m\u001b[0;34m)\u001b[0m\u001b[0;34m\u001b[0m\u001b[0m\n\u001b[0m\u001b[1;32m    646\u001b[0m \u001b[0;34m\u001b[0m\u001b[0m\n\u001b[1;32m    647\u001b[0m     \u001b[0;32mdef\u001b[0m \u001b[0mclose\u001b[0m\u001b[0;34m(\u001b[0m\u001b[0mself\u001b[0m\u001b[0;34m)\u001b[0m\u001b[0;34m:\u001b[0m\u001b[0;34m\u001b[0m\u001b[0m\n",
      "\u001b[0;32m/Users/castudi1/miniconda2/envs/lovepandas/lib/python2.7/site-packages/pandas/io/parsers.pyc\u001b[0m in \u001b[0;36m_make_engine\u001b[0;34m(self, engine)\u001b[0m\n\u001b[1;32m    797\u001b[0m     \u001b[0;32mdef\u001b[0m \u001b[0m_make_engine\u001b[0m\u001b[0;34m(\u001b[0m\u001b[0mself\u001b[0m\u001b[0;34m,\u001b[0m \u001b[0mengine\u001b[0m\u001b[0;34m=\u001b[0m\u001b[0;34m'c'\u001b[0m\u001b[0;34m)\u001b[0m\u001b[0;34m:\u001b[0m\u001b[0;34m\u001b[0m\u001b[0m\n\u001b[1;32m    798\u001b[0m         \u001b[0;32mif\u001b[0m \u001b[0mengine\u001b[0m \u001b[0;34m==\u001b[0m \u001b[0;34m'c'\u001b[0m\u001b[0;34m:\u001b[0m\u001b[0;34m\u001b[0m\u001b[0m\n\u001b[0;32m--> 799\u001b[0;31m             \u001b[0mself\u001b[0m\u001b[0;34m.\u001b[0m\u001b[0m_engine\u001b[0m \u001b[0;34m=\u001b[0m \u001b[0mCParserWrapper\u001b[0m\u001b[0;34m(\u001b[0m\u001b[0mself\u001b[0m\u001b[0;34m.\u001b[0m\u001b[0mf\u001b[0m\u001b[0;34m,\u001b[0m \u001b[0;34m**\u001b[0m\u001b[0mself\u001b[0m\u001b[0;34m.\u001b[0m\u001b[0moptions\u001b[0m\u001b[0;34m)\u001b[0m\u001b[0;34m\u001b[0m\u001b[0m\n\u001b[0m\u001b[1;32m    800\u001b[0m         \u001b[0;32melse\u001b[0m\u001b[0;34m:\u001b[0m\u001b[0;34m\u001b[0m\u001b[0m\n\u001b[1;32m    801\u001b[0m             \u001b[0;32mif\u001b[0m \u001b[0mengine\u001b[0m \u001b[0;34m==\u001b[0m \u001b[0;34m'python'\u001b[0m\u001b[0;34m:\u001b[0m\u001b[0;34m\u001b[0m\u001b[0m\n",
      "\u001b[0;32m/Users/castudi1/miniconda2/envs/lovepandas/lib/python2.7/site-packages/pandas/io/parsers.pyc\u001b[0m in \u001b[0;36m__init__\u001b[0;34m(self, src, **kwds)\u001b[0m\n\u001b[1;32m   1211\u001b[0m         \u001b[0mkwds\u001b[0m\u001b[0;34m[\u001b[0m\u001b[0;34m'allow_leading_cols'\u001b[0m\u001b[0;34m]\u001b[0m \u001b[0;34m=\u001b[0m \u001b[0mself\u001b[0m\u001b[0;34m.\u001b[0m\u001b[0mindex_col\u001b[0m \u001b[0;32mis\u001b[0m \u001b[0;32mnot\u001b[0m \u001b[0mFalse\u001b[0m\u001b[0;34m\u001b[0m\u001b[0m\n\u001b[1;32m   1212\u001b[0m \u001b[0;34m\u001b[0m\u001b[0m\n\u001b[0;32m-> 1213\u001b[0;31m         \u001b[0mself\u001b[0m\u001b[0;34m.\u001b[0m\u001b[0m_reader\u001b[0m \u001b[0;34m=\u001b[0m \u001b[0m_parser\u001b[0m\u001b[0;34m.\u001b[0m\u001b[0mTextReader\u001b[0m\u001b[0;34m(\u001b[0m\u001b[0msrc\u001b[0m\u001b[0;34m,\u001b[0m \u001b[0;34m**\u001b[0m\u001b[0mkwds\u001b[0m\u001b[0;34m)\u001b[0m\u001b[0;34m\u001b[0m\u001b[0m\n\u001b[0m\u001b[1;32m   1214\u001b[0m \u001b[0;34m\u001b[0m\u001b[0m\n\u001b[1;32m   1215\u001b[0m         \u001b[0;31m# XXX\u001b[0m\u001b[0;34m\u001b[0m\u001b[0;34m\u001b[0m\u001b[0m\n",
      "\u001b[0;32mpandas/parser.pyx\u001b[0m in \u001b[0;36mpandas.parser.TextReader.__cinit__ (pandas/parser.c:3427)\u001b[0;34m()\u001b[0m\n",
      "\u001b[0;32mpandas/parser.pyx\u001b[0m in \u001b[0;36mpandas.parser.TextReader._setup_parser_source (pandas/parser.c:6861)\u001b[0;34m()\u001b[0m\n",
      "\u001b[0;31mIOError\u001b[0m: File @NJTRANSIT_RVL_march_april_may.csv does not exist"
     ]
    }
   ],
   "source": [
    "nj_transit_tweets = pd.read_csv('@NJTRANSIT_RVL_march_april_may.csv')\n",
    "string = \"RVL_nj_transit_tweets.csv\"\n",
    "train_line = \"RVL\""
   ]
  },
  {
   "cell_type": "code",
   "execution_count": null,
   "metadata": {
    "collapsed": false
   },
   "outputs": [],
   "source": [
    "nj_transit_tweets.head(5)"
   ]
  },
  {
   "cell_type": "code",
   "execution_count": null,
   "metadata": {
    "collapsed": false
   },
   "outputs": [],
   "source": [
    "len(nj_transit_tweets.index)"
   ]
  },
  {
   "cell_type": "code",
   "execution_count": null,
   "metadata": {
    "collapsed": false
   },
   "outputs": [],
   "source": [
    "#Take out Twitter replies\n",
    "\n",
    "nj_transit_tweets_no_replies = nj_transit_tweets[~nj_transit_tweets['text'].str.contains(\"^[@]\\S*\")]\n",
    "nj_transit_tweets_all_replies = nj_transit_tweets[nj_transit_tweets['text'].str.contains(\"^[@]\\S*\")]\n",
    "\n"
   ]
  },
  {
   "cell_type": "code",
   "execution_count": null,
   "metadata": {
    "collapsed": false
   },
   "outputs": [],
   "source": [
    "nj_transit_tweets_no_replies.head(15)"
   ]
  },
  {
   "cell_type": "code",
   "execution_count": null,
   "metadata": {
    "collapsed": true
   },
   "outputs": [],
   "source": [
    "#Take out Light Rail\n",
    "nj_transit_tweets_no_light_rail = nj_transit_tweets_no_replies[~nj_transit_tweets_no_replies['text'].str.contains(\"light rail|Light Rail|#HBLR|#NLR|ACRL\")]\n",
    "nj_transit_tweets_all_light_rail = nj_transit_tweets_no_replies[nj_transit_tweets_no_replies['text'].str.contains(\"light rail|Light Rail|#HBLR|#NLR|ACRL\")]"
   ]
  },
  {
   "cell_type": "code",
   "execution_count": null,
   "metadata": {
    "collapsed": false
   },
   "outputs": [],
   "source": [
    "nj_transit_tweets_no_light_rail"
   ]
  },
  {
   "cell_type": "code",
   "execution_count": null,
   "metadata": {
    "collapsed": false
   },
   "outputs": [],
   "source": [
    "len(nj_transit_tweets_no_light_rail.index)"
   ]
  },
  {
   "cell_type": "code",
   "execution_count": null,
   "metadata": {
    "collapsed": true
   },
   "outputs": [],
   "source": [
    "\n",
    "nj_transit_tweets_no_rt = nj_transit_tweets_no_light_rail[~nj_transit_tweets_no_light_rail['text'].str.contains(\"^RT\\s@\")]\n",
    "nj_transit_tweets_all_rt = nj_transit_tweets_no_light_rail[nj_transit_tweets_no_light_rail['text'].str.contains(\"^RT\\s@\")]\n",
    "\n"
   ]
  },
  {
   "cell_type": "code",
   "execution_count": null,
   "metadata": {
    "collapsed": false
   },
   "outputs": [],
   "source": [
    "nj_transit_tweets_all_rt"
   ]
  },
  {
   "cell_type": "code",
   "execution_count": null,
   "metadata": {
    "collapsed": false
   },
   "outputs": [],
   "source": [
    "len(nj_transit_tweets_no_rt.index)"
   ]
  },
  {
   "cell_type": "code",
   "execution_count": null,
   "metadata": {
    "collapsed": true
   },
   "outputs": [],
   "source": [
    "#Take out Bus\n",
    "nj_transit_tweets_no_bus = nj_transit_tweets_no_rt[~nj_transit_tweets_no_rt['text'].str.contains(\"Bus service|bus service|bus Service|Bus lanes|Bus route|road conditions\")]\n",
    "nj_transit_tweets_all_bus = nj_transit_tweets_no_rt[nj_transit_tweets_no_rt['text'].str.contains(\"Bus service|bus service|bus Service|Bus lanes|Bus route|road conditions\")]"
   ]
  },
  {
   "cell_type": "code",
   "execution_count": null,
   "metadata": {
    "collapsed": false
   },
   "outputs": [],
   "source": [
    "#Take out Ferry\n",
    "nj_transit_tweets_no_ferry = nj_transit_tweets_no_bus[~nj_transit_tweets_no_bus['text'].str.contains(\"Ferry|ferry|Waterway\")]\n",
    "nj_transit_tweets_all_ferry = nj_transit_tweets_no_bus[nj_transit_tweets_no_bus['text'].str.contains(\"Ferry|ferry|Waterway\")]"
   ]
  },
  {
   "cell_type": "code",
   "execution_count": null,
   "metadata": {
    "collapsed": false
   },
   "outputs": [],
   "source": [
    "#Take out Promotions\n",
    "nj_transit_tweets_no_promo = nj_transit_tweets_no_ferry[~nj_transit_tweets_no_ferry['text'].str.contains(\"Save|save|sale|Save|Code|code|#WeRListening|#TTFatWork|St. Patrick's Day\")]\n",
    "nj_transit_tweets_all_promo = nj_transit_tweets_no_ferry[nj_transit_tweets_no_ferry['text'].str.contains(\"Save|save|sale|Save|Code|code|#WeRListening|#TTFatWork|St. Patrick's Day\")]"
   ]
  },
  {
   "cell_type": "code",
   "execution_count": null,
   "metadata": {
    "collapsed": false
   },
   "outputs": [],
   "source": [
    "len(nj_transit_tweets_no_promo.index)"
   ]
  },
  {
   "cell_type": "code",
   "execution_count": null,
   "metadata": {
    "collapsed": false
   },
   "outputs": [],
   "source": [
    "nj_transit_tweets_no_promo.to_csv(string, index=False)"
   ]
  },
  {
   "cell_type": "code",
   "execution_count": null,
   "metadata": {
    "collapsed": false
   },
   "outputs": [],
   "source": [
    "import datetime\n",
    "datetime.datetime.strptime\n"
   ]
  },
  {
   "cell_type": "code",
   "execution_count": null,
   "metadata": {
    "collapsed": false
   },
   "outputs": [],
   "source": [
    "#convert to datetime so I can filter out dates \n",
    "#Example 2017-04-25 17:33:25 %m/%m/\n",
    "\n",
    "nj_transit_tweets_no_promo['created_at_date'] =  pd.to_datetime(nj_transit_tweets_no_promo['created_at'], format='%Y-%m-%d %H:%M:%S')"
   ]
  },
  {
   "cell_type": "code",
   "execution_count": null,
   "metadata": {
    "collapsed": false
   },
   "outputs": [],
   "source": [
    "nj_transit_tweets_no_promo.head(10)"
   ]
  },
  {
   "cell_type": "code",
   "execution_count": null,
   "metadata": {
    "collapsed": false
   },
   "outputs": [],
   "source": [
    "nj_transit_tweets_filtered = nj_transit_tweets_no_promo[(nj_transit_tweets_no_promo['created_at_date']>datetime.date(2017,3,1)) & (nj_transit_tweets_no_promo['created_at_date']<datetime.date(2017,5,31))]"
   ]
  },
  {
   "cell_type": "code",
   "execution_count": null,
   "metadata": {
    "collapsed": false
   },
   "outputs": [],
   "source": [
    "nj_transit_tweets_filtered.tail(10)"
   ]
  },
  {
   "cell_type": "code",
   "execution_count": null,
   "metadata": {
    "collapsed": true
   },
   "outputs": [],
   "source": [
    "#Keep all of the delays/suspensions/cancellations\n",
    "nj_transit_tweets_no_delays = nj_transit_tweets_filtered[~nj_transit_tweets_filtered['text'].str.contains(\"delays|delay|delayed|cancelled|CANCELLED|Cancelled|suspended|suspend|late|stopped in the station\")]\n",
    "nj_transit_tweets_all_delays = nj_transit_tweets_filtered[nj_transit_tweets_filtered['text'].str.contains(\"delays|delay|delayed|cancelled|CANCELLED|Cancelled|suspended|suspend|late|stopped in the station\")]"
   ]
  },
  {
   "cell_type": "code",
   "execution_count": null,
   "metadata": {
    "collapsed": false
   },
   "outputs": [],
   "source": [
    "len(nj_transit_tweets_no_delays.index)"
   ]
  },
  {
   "cell_type": "code",
   "execution_count": null,
   "metadata": {
    "collapsed": false
   },
   "outputs": [],
   "source": [
    "len(nj_transit_tweets_all_delays.index)"
   ]
  },
  {
   "cell_type": "code",
   "execution_count": null,
   "metadata": {
    "collapsed": true
   },
   "outputs": [],
   "source": [
    "#Take out updates\n",
    "nj_transit_tweets_no_updates = nj_transit_tweets_all_delays[~nj_transit_tweets_all_delays['text'].str.contains(\"update|Update|UPDATE|Correction|CORRECTION\")]\n",
    "nj_transit_tweets_all_updates = nj_transit_tweets_all_delays[nj_transit_tweets_all_delays['text'].str.contains(\"update|Update|UPDATE|Correction|CORRECTION\")]"
   ]
  },
  {
   "cell_type": "code",
   "execution_count": null,
   "metadata": {
    "collapsed": false
   },
   "outputs": [],
   "source": [
    "len(nj_transit_tweets_no_updates.index)"
   ]
  },
  {
   "cell_type": "code",
   "execution_count": null,
   "metadata": {
    "collapsed": true
   },
   "outputs": [],
   "source": [
    "#Take out Princeton Dinky and Air Train and PATH and Metro North\n",
    "nj_transit_tweets_no_dinky = nj_transit_tweets_no_updates[~nj_transit_tweets_no_updates['text'].str.contains(\"Dinky|Air Train|Airtrain|AirTrain|PATH|Metro North\")]\n",
    "nj_transit_tweets_all_dinky = nj_transit_tweets_no_updates[nj_transit_tweets_no_updates['text'].str.contains(\"Dinky|Air Train|Airtrain|AirTrain|PATH|Metro North\")]"
   ]
  },
  {
   "cell_type": "code",
   "execution_count": null,
   "metadata": {
    "collapsed": false
   },
   "outputs": [],
   "source": [
    "len(nj_transit_tweets_no_dinky.index)"
   ]
  },
  {
   "cell_type": "code",
   "execution_count": null,
   "metadata": {
    "collapsed": true
   },
   "outputs": [],
   "source": [
    "#Take out operating close to normal schedule\n",
    "nj_transit_tweets_no_normal = nj_transit_tweets_no_dinky[~nj_transit_tweets_no_dinky['text'].str.contains(\"operating on or close to schedule|close to schedule\")]\n",
    "nj_transit_tweets_all_normal = nj_transit_tweets_no_dinky[nj_transit_tweets_no_dinky['text'].str.contains(\"operating on or close to schedule|close to schedule\")]"
   ]
  },
  {
   "cell_type": "code",
   "execution_count": null,
   "metadata": {
    "collapsed": false
   },
   "outputs": [],
   "source": [
    "len(nj_transit_tweets_no_normal.index)"
   ]
  },
  {
   "cell_type": "code",
   "execution_count": null,
   "metadata": {
    "collapsed": false
   },
   "outputs": [],
   "source": [
    "nj_transit_tweets_all_normal"
   ]
  },
  {
   "cell_type": "code",
   "execution_count": null,
   "metadata": {
    "collapsed": true
   },
   "outputs": [],
   "source": [
    "nj_transit_tweets_no_delays.to_csv(\"fix_test/NEC_no_delays_test.csv\")"
   ]
  },
  {
   "cell_type": "code",
   "execution_count": null,
   "metadata": {
    "collapsed": false
   },
   "outputs": [],
   "source": [
    "nj_transit_tweets_no_delays"
   ]
  },
  {
   "cell_type": "code",
   "execution_count": null,
   "metadata": {
    "collapsed": true
   },
   "outputs": [],
   "source": []
  },
  {
   "cell_type": "code",
   "execution_count": null,
   "metadata": {
    "collapsed": false
   },
   "outputs": [],
   "source": [
    "#Get partial string for reason for delay and try to make it into column\n",
    "regex = \"due[^.]*\"\n",
    "\n",
    "nj_transit_tweets_no_normal['reason'] = nj_transit_tweets_no_normal['text'].str.extract('('+regex+')', expand=False)"
   ]
  },
  {
   "cell_type": "code",
   "execution_count": null,
   "metadata": {
    "collapsed": false
   },
   "outputs": [],
   "source": [
    "nj_transit_tweets_no_normal"
   ]
  },
  {
   "cell_type": "code",
   "execution_count": null,
   "metadata": {
    "collapsed": false
   },
   "outputs": [],
   "source": [
    "#Get partial string for train number and try to make it into column\n",
    "train_regex = \"^[ train #(\\w)]*|^[ train (\\w)]\"\n",
    "\n",
    "nj_transit_tweets_no_normal['train'] = nj_transit_tweets_no_normal['text'].str.extract('('+train_regex+')')\n",
    "\n"
   ]
  },
  {
   "cell_type": "code",
   "execution_count": null,
   "metadata": {
    "collapsed": false
   },
   "outputs": [],
   "source": [
    "nj_transit_tweets_no_normal['train_line'] = train_line"
   ]
  },
  {
   "cell_type": "code",
   "execution_count": null,
   "metadata": {
    "collapsed": false
   },
   "outputs": [],
   "source": [
    "nj_transit_tweets_no_normal"
   ]
  },
  {
   "cell_type": "code",
   "execution_count": null,
   "metadata": {
    "collapsed": false
   },
   "outputs": [],
   "source": [
    "nj_transit_tweets_no_normal.loc[nj_transit_tweets_no_normal['text'].str.contains('earlier congestion|congestion|delayed train|late connection|delayed connection|late trains|making additional stops|late train|heavy travel|accommodating customers'), 'blame'] = 'NJT late train'\n",
    "nj_transit_tweets_no_normal.loc[nj_transit_tweets_no_normal['text'].str.contains('mechanical problem|mechanical problems'), 'blame'] = 'NJT mechanical problem'\n",
    "nj_transit_tweets_no_normal.loc[nj_transit_tweets_no_normal['text'].str.contains('operational issue|operational issues|bridge opening|power shortage'), 'blame'] = 'NJT operational issues'\n",
    "nj_transit_tweets_no_normal.loc[nj_transit_tweets_no_normal['text'].str.contains('police|fire|trespasser|motor vehicle accident|motor vehicle|Police'), 'blame'] = 'Police/Fire activity'\n",
    "nj_transit_tweets_no_normal.loc[nj_transit_tweets_no_normal['text'].str.contains('medical|sick'), 'blame'] = 'Medical emergency'\n",
    "nj_transit_tweets_no_normal.loc[nj_transit_tweets_no_normal['text'].str.contains('weather|downed tree|debris'), 'blame'] = 'Weather-related'\n",
    "nj_transit_tweets_no_normal.loc[nj_transit_tweets_no_normal['text'].str.contains('signal'), 'blame'] = 'NJT signal problem'\n",
    "nj_transit_tweets_no_normal.loc[nj_transit_tweets_no_normal['text'].str.contains('switch'), 'blame'] = 'NJT switch problem'\n",
    "nj_transit_tweets_no_normal.loc[nj_transit_tweets_no_normal['text'].str.contains('congestion caused by the speed|speed|congestion caused by the spe|congestion caused by speed|congestion caused by sp'), 'blame'] = 'Amtrak speed limit'"
   ]
  },
  {
   "cell_type": "code",
   "execution_count": null,
   "metadata": {
    "collapsed": false
   },
   "outputs": [],
   "source": [
    "nj_transit_tweets_no_normal"
   ]
  },
  {
   "cell_type": "code",
   "execution_count": null,
   "metadata": {
    "collapsed": true
   },
   "outputs": [],
   "source": [
    "nj_transit_tweets_no_normal.to_csv(\"fix_test/\" + string, index=False)"
   ]
  },
  {
   "cell_type": "code",
   "execution_count": null,
   "metadata": {
    "collapsed": true
   },
   "outputs": [],
   "source": []
  }
 ],
 "metadata": {
  "kernelspec": {
   "display_name": "Python 2",
   "language": "python",
   "name": "python2"
  },
  "language_info": {
   "codemirror_mode": {
    "name": "ipython",
    "version": 2
   },
   "file_extension": ".py",
   "mimetype": "text/x-python",
   "name": "python",
   "nbconvert_exporter": "python",
   "pygments_lexer": "ipython2",
   "version": "2.7.12"
  }
 },
 "nbformat": 4,
 "nbformat_minor": 0
}
